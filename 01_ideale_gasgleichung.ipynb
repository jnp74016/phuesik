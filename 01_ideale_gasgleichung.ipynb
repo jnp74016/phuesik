{
 "cells": [
  {
   "cell_type": "code",
   "execution_count": 1,
   "metadata": {},
   "outputs": [],
   "source": [
    "from __future__ import division\n",
    "from IPython.display import display\n",
    "from IPython.display import Markdown as md\n",
    "from IPython.core.display import SVG\n",
    "from sympy.interactive import printing\n",
    "printing.init_printing(use_latex='mathjax')\n",
    "\n",
    "import pandas as pd\n",
    "import numpy as np\n",
    "\n",
    "import sympy as sp\n",
    "sf = sp.sympify\n",
    "\n",
    "import scipy.constants as cm\n",
    "import pint as pn\n",
    "ureg = pn.UnitRegistry(system='mks')\n",
    "ureg.default_format = '~P'\n",
    "pe = ureg.parse_expression\n",
    "\n",
    "## Konstanten und Einheiten\n",
    "CM = pd.DataFrame(cm.physical_constants).T\n",
    "CM['c'] = CM.index\n",
    "CM = CM.reset_index(drop=True)\n",
    "def getpc(quant):\n",
    "    DF = CM\n",
    "    DF = DF[DF['c']==quant].reset_index(drop=True)\n",
    "    quan = DF[0][0] * ureg(DF[1][0])\n",
    "    return quan"
   ]
  },
  {
   "cell_type": "code",
   "execution_count": 2,
   "metadata": {},
   "outputs": [],
   "source": [
    "#CM[CM['c'].str.contains('avog',case=False)]"
   ]
  },
  {
   "cell_type": "code",
   "execution_count": 3,
   "metadata": {},
   "outputs": [],
   "source": [
    "g = getpc('standard acceleration of gravity')\n",
    "m_e = getpc('electron mass')\n",
    "e = getpc('elementary charge')\n",
    "c = getpc('speed of light in vacuum')\n",
    "e0 = getpc('electric constant')\n",
    "mu0 = getpc('mag. constant')\n",
    "kb = getpc('Boltzmann constant')\n",
    "R = getpc('molar gas constant')\n",
    "NA = getpc('Avogadro constant')"
   ]
  },
  {
   "cell_type": "code",
   "execution_count": 4,
   "metadata": {},
   "outputs": [
    {
     "data": {
      "text/html": [
       "<script>\n",
       "code_show=true; \n",
       "function code_toggle() {\n",
       " if (code_show){\n",
       " $('div.input').hide();\n",
       " } else {\n",
       " $('div.input').show();\n",
       " }\n",
       " code_show = !code_show\n",
       "} \n",
       "$( document ).ready(code_toggle);\n",
       "</script>\n",
       "<form action=\"javascript:code_toggle()\"><input type=\"submit\" value=\"Quellcode an/aus schalten.\"></form>"
      ],
      "text/plain": [
       "<IPython.core.display.HTML object>"
      ]
     },
     "execution_count": 4,
     "metadata": {},
     "output_type": "execute_result"
    }
   ],
   "source": [
    "from IPython.display import HTML\n",
    "\n",
    "HTML('''<script>\n",
    "code_show=true; \n",
    "function code_toggle() {\n",
    " if (code_show){\n",
    " $('div.input').hide();\n",
    " } else {\n",
    " $('div.input').show();\n",
    " }\n",
    " code_show = !code_show\n",
    "} \n",
    "$( document ).ready(code_toggle);\n",
    "</script>\n",
    "<form action=\"javascript:code_toggle()\"><input type=\"submit\" value=\"Quellcode an/aus schalten.\"></form>''')"
   ]
  },
  {
   "cell_type": "markdown",
   "metadata": {},
   "source": [
    "# Die Ideale Gasgleichung\n",
    "## Aufgabe 2\n",
    "$$p\\cdot V = N \\cdot k_B \\cdot T$$\n",
    "### a)\n",
    "Gesucht ist $p$. Zuerst muss man mit der molaren Masse von Stickstoff $M$ die Stoffmenge $n=m/M$ ausrechnen. Multipliziert mit der Avogadrozahl ergibt sich die Anzahl der Teilchen $N = n \\cdot N_A$.\n",
    "$$p = \\frac{N k_B T}{V}$$"
   ]
  },
  {
   "cell_type": "code",
   "execution_count": 5,
   "metadata": {},
   "outputs": [
    {
     "data": {
      "text/markdown": [
       "Gegeben: <br/> $m = 0.5 kg$; $T = 298.5 K$; $M = 28.01 g/mol$<br/>Lösung:<br/>$n = 17.85 mol$; $N = 1.075e+25$"
      ],
      "text/plain": [
       "<IPython.core.display.Markdown object>"
      ]
     },
     "execution_count": 5,
     "metadata": {},
     "output_type": "execute_result"
    }
   ],
   "source": [
    "m = pe('0.5kg')\n",
    "T = ureg.Quantity(25.4, ureg.degC).to('kelvin')\n",
    "M = pe('28.01 g/mol')\n",
    "\n",
    "n = (m/M).to_base_units()\n",
    "N = (n*NA).to_base_units()\n",
    "\n",
    "md(\"Gegeben: <br/>\" \n",
    "+ \" $m = {:}$\".format(m) \n",
    "+ \"; $T = {:.4~P}$\".format(T)\n",
    "+ \"; $M = {:.4~P}$\".format(M)\n",
    "+ \"<br/>Lösung:<br/>\" \n",
    "+ \"$n = {:.4~P}$\".format(n)\n",
    "+ \"; $N = {:.4~P}$\".format(N))"
   ]
  },
  {
   "cell_type": "markdown",
   "metadata": {},
   "source": [
    "### b)\n",
    "Wenn sich die Temperatur ändert, dann ändert sich bei gleichem Volumen auch der Druck um das gleiche Verhältnis."
   ]
  },
  {
   "cell_type": "code",
   "execution_count": 6,
   "metadata": {},
   "outputs": [
    {
     "data": {
      "text/markdown": [
       "Gegeben: <br/>$T_0 = 298.5 K$; $T_1 = 258.1 K$<br/>Lösung:<br/>$p_1/p_0 = T_1/T_0 = 0.8647$"
      ],
      "text/plain": [
       "<IPython.core.display.Markdown object>"
      ]
     },
     "execution_count": 6,
     "metadata": {},
     "output_type": "execute_result"
    }
   ],
   "source": [
    "\n",
    "T_0 = ureg.Quantity(25.4, ureg.degC).to('kelvin')\n",
    "T_1 = ureg.Quantity(-15, ureg.degC).to('kelvin')\n",
    "\n",
    "\n",
    "md(\"Gegeben: <br/>\" \n",
    "+ \"$T_0 = {:.4~P}$\".format(T_0)\n",
    "+ \"; $T_1 = {:.4~P}$\".format(T_1)\n",
    "+ \"<br/>Lösung:<br/>\" \n",
    "+ \"$p_1/p_0 = T_1/T_0 = {:.4~P}$\".format(T_1/T_0))"
   ]
  },
  {
   "cell_type": "code",
   "execution_count": null,
   "metadata": {},
   "outputs": [],
   "source": []
  }
 ],
 "metadata": {
  "kernelspec": {
   "display_name": "Python 3",
   "language": "python",
   "name": "python3"
  },
  "language_info": {
   "codemirror_mode": {
    "name": "ipython",
    "version": 3
   },
   "file_extension": ".py",
   "mimetype": "text/x-python",
   "name": "python",
   "nbconvert_exporter": "python",
   "pygments_lexer": "ipython3",
   "version": "3.6.5"
  }
 },
 "nbformat": 4,
 "nbformat_minor": 2
}
